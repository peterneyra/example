{
 "cells": [
  {
   "cell_type": "markdown",
   "id": "64395fb3a6fb29",
   "metadata": {},
   "source": [
    "### Easy Analytics (before breakfast ;-)\n",
    "Wir laden unseren finalen Datensatz und legen los..."
   ]
  },
  {
   "cell_type": "code",
   "execution_count": 1,
   "id": "f28b6ef4507b3a4d",
   "metadata": {
    "ExecuteTime": {
     "end_time": "2025-08-07T13:36:20.628371Z",
     "start_time": "2025-08-07T13:36:20.147194Z"
    }
   },
   "outputs": [],
   "source": [
    "import pandas as pd\n",
    "from fastparquet import ParquetFile"
   ]
  },
  {
   "cell_type": "code",
   "execution_count": 2,
   "id": "6dfb10541787006c",
   "metadata": {
    "ExecuteTime": {
     "end_time": "2025-08-07T13:38:21.718058Z",
     "start_time": "2025-08-07T13:37:59.203346Z"
    }
   },
   "outputs": [
    {
     "data": {
      "text/html": [
       "<div>\n",
       "<style scoped>\n",
       "    .dataframe tbody tr th:only-of-type {\n",
       "        vertical-align: middle;\n",
       "    }\n",
       "\n",
       "    .dataframe tbody tr th {\n",
       "        vertical-align: top;\n",
       "    }\n",
       "\n",
       "    .dataframe thead th {\n",
       "        text-align: right;\n",
       "    }\n",
       "</style>\n",
       "<table border=\"1\" class=\"dataframe\">\n",
       "  <thead>\n",
       "    <tr style=\"text-align: right;\">\n",
       "      <th></th>\n",
       "      <th>VendorID</th>\n",
       "      <th>tpep_pickup_datetime</th>\n",
       "      <th>tpep_dropoff_datetime</th>\n",
       "      <th>passenger_count</th>\n",
       "      <th>trip_distance</th>\n",
       "      <th>RatecodeID</th>\n",
       "      <th>store_and_fwd_flag</th>\n",
       "      <th>payment_type</th>\n",
       "      <th>fare_amount</th>\n",
       "      <th>extra</th>\n",
       "      <th>...</th>\n",
       "      <th>total_amount</th>\n",
       "      <th>congestion_surcharge</th>\n",
       "      <th>LocationID_x</th>\n",
       "      <th>PU_Borough</th>\n",
       "      <th>PU_Zone</th>\n",
       "      <th>service_zone_x</th>\n",
       "      <th>LocationID_y</th>\n",
       "      <th>DO_Borough</th>\n",
       "      <th>DO_Zone</th>\n",
       "      <th>service_zone_y</th>\n",
       "    </tr>\n",
       "  </thead>\n",
       "  <tbody>\n",
       "    <tr>\n",
       "      <th>0</th>\n",
       "      <td>1.0</td>\n",
       "      <td>2019-11-01 00:35:48</td>\n",
       "      <td>2019-11-01 01:13:12</td>\n",
       "      <td>1.0</td>\n",
       "      <td>8.5</td>\n",
       "      <td>1.0</td>\n",
       "      <td>N</td>\n",
       "      <td>1.0</td>\n",
       "      <td>32.0</td>\n",
       "      <td>3.0</td>\n",
       "      <td>...</td>\n",
       "      <td>50.27</td>\n",
       "      <td>2.5</td>\n",
       "      <td>138</td>\n",
       "      <td>Queens</td>\n",
       "      <td>LaGuardia Airport</td>\n",
       "      <td>Airports</td>\n",
       "      <td>161</td>\n",
       "      <td>Manhattan</td>\n",
       "      <td>Midtown Center</td>\n",
       "      <td>Yellow Zone</td>\n",
       "    </tr>\n",
       "    <tr>\n",
       "      <th>1</th>\n",
       "      <td>1.0</td>\n",
       "      <td>2019-11-01 00:02:59</td>\n",
       "      <td>2019-11-01 00:05:26</td>\n",
       "      <td>1.0</td>\n",
       "      <td>0.3</td>\n",
       "      <td>1.0</td>\n",
       "      <td>N</td>\n",
       "      <td>2.0</td>\n",
       "      <td>3.5</td>\n",
       "      <td>3.0</td>\n",
       "      <td>...</td>\n",
       "      <td>7.30</td>\n",
       "      <td>2.5</td>\n",
       "      <td>239</td>\n",
       "      <td>Manhattan</td>\n",
       "      <td>Upper West Side South</td>\n",
       "      <td>Yellow Zone</td>\n",
       "      <td>142</td>\n",
       "      <td>Manhattan</td>\n",
       "      <td>Lincoln Square East</td>\n",
       "      <td>Yellow Zone</td>\n",
       "    </tr>\n",
       "    <tr>\n",
       "      <th>2</th>\n",
       "      <td>1.0</td>\n",
       "      <td>2019-11-01 00:11:43</td>\n",
       "      <td>2019-11-01 00:19:43</td>\n",
       "      <td>1.0</td>\n",
       "      <td>1.9</td>\n",
       "      <td>1.0</td>\n",
       "      <td>N</td>\n",
       "      <td>2.0</td>\n",
       "      <td>8.5</td>\n",
       "      <td>3.0</td>\n",
       "      <td>...</td>\n",
       "      <td>12.30</td>\n",
       "      <td>2.5</td>\n",
       "      <td>142</td>\n",
       "      <td>Manhattan</td>\n",
       "      <td>Lincoln Square East</td>\n",
       "      <td>Yellow Zone</td>\n",
       "      <td>262</td>\n",
       "      <td>Manhattan</td>\n",
       "      <td>Yorkville East</td>\n",
       "      <td>Yellow Zone</td>\n",
       "    </tr>\n",
       "    <tr>\n",
       "      <th>3</th>\n",
       "      <td>1.0</td>\n",
       "      <td>2019-11-01 00:11:34</td>\n",
       "      <td>2019-11-01 00:18:02</td>\n",
       "      <td>1.0</td>\n",
       "      <td>0.5</td>\n",
       "      <td>1.0</td>\n",
       "      <td>N</td>\n",
       "      <td>2.0</td>\n",
       "      <td>5.5</td>\n",
       "      <td>3.0</td>\n",
       "      <td>...</td>\n",
       "      <td>9.30</td>\n",
       "      <td>2.5</td>\n",
       "      <td>246</td>\n",
       "      <td>Manhattan</td>\n",
       "      <td>West Chelsea/Hudson Yards</td>\n",
       "      <td>Yellow Zone</td>\n",
       "      <td>186</td>\n",
       "      <td>Manhattan</td>\n",
       "      <td>Penn Station/Madison Sq West</td>\n",
       "      <td>Yellow Zone</td>\n",
       "    </tr>\n",
       "    <tr>\n",
       "      <th>4</th>\n",
       "      <td>1.0</td>\n",
       "      <td>2019-11-01 00:54:04</td>\n",
       "      <td>2019-11-01 01:05:24</td>\n",
       "      <td>2.0</td>\n",
       "      <td>2.4</td>\n",
       "      <td>1.0</td>\n",
       "      <td>N</td>\n",
       "      <td>1.0</td>\n",
       "      <td>10.0</td>\n",
       "      <td>3.0</td>\n",
       "      <td>...</td>\n",
       "      <td>16.55</td>\n",
       "      <td>2.5</td>\n",
       "      <td>246</td>\n",
       "      <td>Manhattan</td>\n",
       "      <td>West Chelsea/Hudson Yards</td>\n",
       "      <td>Yellow Zone</td>\n",
       "      <td>239</td>\n",
       "      <td>Manhattan</td>\n",
       "      <td>Upper West Side South</td>\n",
       "      <td>Yellow Zone</td>\n",
       "    </tr>\n",
       "  </tbody>\n",
       "</table>\n",
       "<p>5 rows × 24 columns</p>\n",
       "</div>"
      ],
      "text/plain": [
       "   VendorID tpep_pickup_datetime tpep_dropoff_datetime  passenger_count  \\\n",
       "0       1.0  2019-11-01 00:35:48   2019-11-01 01:13:12              1.0   \n",
       "1       1.0  2019-11-01 00:02:59   2019-11-01 00:05:26              1.0   \n",
       "2       1.0  2019-11-01 00:11:43   2019-11-01 00:19:43              1.0   \n",
       "3       1.0  2019-11-01 00:11:34   2019-11-01 00:18:02              1.0   \n",
       "4       1.0  2019-11-01 00:54:04   2019-11-01 01:05:24              2.0   \n",
       "\n",
       "   trip_distance  RatecodeID store_and_fwd_flag  payment_type  fare_amount  \\\n",
       "0            8.5         1.0                  N           1.0         32.0   \n",
       "1            0.3         1.0                  N           2.0          3.5   \n",
       "2            1.9         1.0                  N           2.0          8.5   \n",
       "3            0.5         1.0                  N           2.0          5.5   \n",
       "4            2.4         1.0                  N           1.0         10.0   \n",
       "\n",
       "   extra  ...  total_amount  congestion_surcharge  LocationID_x  PU_Borough  \\\n",
       "0    3.0  ...         50.27                   2.5           138      Queens   \n",
       "1    3.0  ...          7.30                   2.5           239   Manhattan   \n",
       "2    3.0  ...         12.30                   2.5           142   Manhattan   \n",
       "3    3.0  ...          9.30                   2.5           246   Manhattan   \n",
       "4    3.0  ...         16.55                   2.5           246   Manhattan   \n",
       "\n",
       "                     PU_Zone  service_zone_x  LocationID_y DO_Borough  \\\n",
       "0          LaGuardia Airport        Airports           161  Manhattan   \n",
       "1      Upper West Side South     Yellow Zone           142  Manhattan   \n",
       "2        Lincoln Square East     Yellow Zone           262  Manhattan   \n",
       "3  West Chelsea/Hudson Yards     Yellow Zone           186  Manhattan   \n",
       "4  West Chelsea/Hudson Yards     Yellow Zone           239  Manhattan   \n",
       "\n",
       "                        DO_Zone service_zone_y  \n",
       "0                Midtown Center    Yellow Zone  \n",
       "1           Lincoln Square East    Yellow Zone  \n",
       "2                Yorkville East    Yellow Zone  \n",
       "3  Penn Station/Madison Sq West    Yellow Zone  \n",
       "4         Upper West Side South    Yellow Zone  \n",
       "\n",
       "[5 rows x 24 columns]"
      ]
     },
     "execution_count": 2,
     "metadata": {},
     "output_type": "execute_result"
    }
   ],
   "source": [
    "# Load Data\n",
    "pf = ParquetFile('NYTaxi-TripData/new_york_taxi_cleaned_final.parquet')\n",
    "df = pf.to_pandas()\n",
    "df.head()"
   ]
  },
  {
   "cell_type": "markdown",
   "id": "682e2c91edde2a87",
   "metadata": {},
   "source": [
    "---\n",
    "\n",
    "1. #### Wie viele Fahrten gibt es insgesamt?\n",
    "* Aufgabe: Finde die Anzahl der Zeilen (Fahrten) im DataFrame."
   ]
  },
  {
   "cell_type": "code",
   "execution_count": 3,
   "id": "56fdddc79332e7e9",
   "metadata": {
    "ExecuteTime": {
     "end_time": "2025-08-07T13:38:41.767696Z",
     "start_time": "2025-08-07T13:38:41.762947Z"
    }
   },
   "outputs": [
    {
     "data": {
      "text/plain": [
       "99574711"
      ]
     },
     "execution_count": 3,
     "metadata": {},
     "output_type": "execute_result"
    }
   ],
   "source": [
    "df.shape[0]"
   ]
  },
  {
   "cell_type": "markdown",
   "id": "1c1d0b1b29d7028c",
   "metadata": {},
   "source": [
    "#### 2. Wie viele Spalten gibt es im Datensatz?\n",
    "* Aufgabe: Finde die Anzahl der Spalten im DataFrame."
   ]
  },
  {
   "cell_type": "code",
   "execution_count": 4,
   "id": "efeca99db3c3d317",
   "metadata": {
    "ExecuteTime": {
     "end_time": "2025-08-07T13:43:00.565347Z",
     "start_time": "2025-08-07T13:43:00.557009Z"
    }
   },
   "outputs": [
    {
     "data": {
      "text/plain": [
       "24"
      ]
     },
     "execution_count": 4,
     "metadata": {},
     "output_type": "execute_result"
    }
   ],
   "source": [
    "df.shape[1]"
   ]
  },
  {
   "cell_type": "markdown",
   "id": "790bbe2a211f2b44",
   "metadata": {},
   "source": [
    "#### 3. Wie viele einzigartige Anbieter (VendorID) gibt es?\n",
    "* Aufgabe: Zähle, wie viele verschiedene Taxi-Anbieter im Datensatz vorkommen."
   ]
  },
  {
   "cell_type": "code",
   "execution_count": 5,
   "id": "ff748321e56f2717",
   "metadata": {
    "ExecuteTime": {
     "end_time": "2025-08-07T13:44:30.168459Z",
     "start_time": "2025-08-07T13:44:29.418510Z"
    }
   },
   "outputs": [
    {
     "data": {
      "text/plain": [
       "3"
      ]
     },
     "execution_count": 5,
     "metadata": {},
     "output_type": "execute_result"
    }
   ],
   "source": [
    "df['VendorID'].nunique()"
   ]
  },
  {
   "cell_type": "markdown",
   "id": "a67e87eac21b0e6c",
   "metadata": {},
   "source": [
    "#### 4. Was ist die maximale Anzahl von Passagieren in einer Fahrt?\n",
    "* Aufgabe: Finde den höchsten Wert in der Spalte passenger_count."
   ]
  },
  {
   "cell_type": "code",
   "execution_count": 6,
   "id": "2829f91f89c8a533",
   "metadata": {
    "ExecuteTime": {
     "end_time": "2025-08-07T13:46:23.489928Z",
     "start_time": "2025-08-07T13:46:22.920877Z"
    }
   },
   "outputs": [
    {
     "data": {
      "text/plain": [
       "np.float64(9.0)"
      ]
     },
     "execution_count": 6,
     "metadata": {},
     "output_type": "execute_result"
    }
   ],
   "source": [
    "df['passenger_count'].max()"
   ]
  },
  {
   "cell_type": "markdown",
   "id": "75ed01269226998",
   "metadata": {},
   "source": [
    "#### 5. Was ist der niedrigste Fahrpreis (fare_amount)?\n",
    "* Aufgabe: Finde den niedrigsten Wert in der Spalte fare_amount.\n",
    "* Aufgabe: Finde die Anzahl der Fahrten mit einem Fahrpreis unter $2.50\n",
    "* Aufgabe: Gib das Ergebnis in Prozent aus"
   ]
  },
  {
   "cell_type": "code",
   "execution_count": 7,
   "id": "9e30fae93fa4d854",
   "metadata": {
    "ExecuteTime": {
     "end_time": "2025-08-07T13:53:00.545382Z",
     "start_time": "2025-08-07T13:52:59.934341Z"
    }
   },
   "outputs": [
    {
     "data": {
      "text/plain": [
       "np.float64(0.01)"
      ]
     },
     "execution_count": 7,
     "metadata": {},
     "output_type": "execute_result"
    }
   ],
   "source": [
    "df['fare_amount'].min()"
   ]
  },
  {
   "cell_type": "code",
   "execution_count": 10,
   "id": "34f213957bfc1d2f",
   "metadata": {
    "ExecuteTime": {
     "end_time": "2025-08-07T14:01:46.354826Z",
     "start_time": "2025-08-07T14:01:38.264437Z"
    }
   },
   "outputs": [
    {
     "name": "stdout",
     "output_type": "stream",
     "text": [
      "Es gibt 5458 Fahrten mit einem Fahrpreis unter 2,5 $\n",
      "Das entspricht 0.01% aller Fahrten im Datensatz\n"
     ]
    }
   ],
   "source": [
    "# Anzahl der Fahrten mit Fahrpreis unter 2,5 ermitteln\n",
    "anzahl_niedrige_preise = df[df['fare_amount'] < 2.5].shape[0]\n",
    "\n",
    "print(f\"Es gibt {anzahl_niedrige_preise} Fahrten mit einem Fahrpreis unter 2,5 $\")\n",
    "\n",
    "# Optional: Prozentsatz dieser Fahrten an der Gesamtmenge\n",
    "prozentsatz = (anzahl_niedrige_preise / df.shape[0]) * 100\n",
    "print(f\"Das entspricht {prozentsatz:.2f}% aller Fahrten im Datensatz\")\n"
   ]
  },
  {
   "cell_type": "markdown",
   "id": "e7870503fdc5143a",
   "metadata": {},
   "source": [
    "#### 6. Was ist der durchschnittliche Trinkgeldbetrag (tip_amount)?\n",
    "* Aufgabe: Berechne den Mittelwert der Trinkgelder."
   ]
  },
  {
   "cell_type": "code",
   "execution_count": 11,
   "id": "b4c30848cfa0697c",
   "metadata": {
    "ExecuteTime": {
     "end_time": "2025-08-07T14:07:06.642534Z",
     "start_time": "2025-08-07T14:07:05.335473Z"
    }
   },
   "outputs": [
    {
     "data": {
      "text/plain": [
       "np.float64(2.1942434305433234)"
      ]
     },
     "execution_count": 11,
     "metadata": {},
     "output_type": "execute_result"
    }
   ],
   "source": [
    "df['tip_amount'].mean()"
   ]
  },
  {
   "cell_type": "code",
   "execution_count": null,
   "id": "bb23db89c9f5e44b",
   "metadata": {},
   "outputs": [],
   "source": []
  }
 ],
 "metadata": {
  "kernelspec": {
   "display_name": "Python 3 (ipykernel)",
   "language": "python",
   "name": "python3"
  },
  "language_info": {
   "codemirror_mode": {
    "name": "ipython",
    "version": 3
   },
   "file_extension": ".py",
   "mimetype": "text/x-python",
   "name": "python",
   "nbconvert_exporter": "python",
   "pygments_lexer": "ipython3",
   "version": "3.11.6"
  }
 },
 "nbformat": 4,
 "nbformat_minor": 5
}
